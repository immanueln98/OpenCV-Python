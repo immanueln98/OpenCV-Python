{
 "cells": [
  {
   "cell_type": "code",
   "execution_count": 2,
   "metadata": {},
   "outputs": [],
   "source": [
    "import cv2\n",
    "import time\n",
    "\n",
    "cap = cv2.VideoCapture(0)\n",
    "\n",
    "##CALLBACK FUNCTION RECTANGLE\n",
    "def draw_rectangle(event, x, y, flags, param):\n",
    "    global pt1, pt2, topLeft_clicked, bottomRight_clicked\n",
    "    \n",
    "    if event == cv2.EVENT_LBUTTONDOWN:\n",
    "        ##RESET THE RECTANGLE\n",
    "        if topLeft_clicked == True and bottomRight_clicked == True:\n",
    "            pt1 = (0,0)\n",
    "            pt2 = (0,0)\n",
    "            topLeft_clicked = False\n",
    "            bottomRight_clicked = False\n",
    "\n",
    "        if topLeft_clicked == False :\n",
    "            pt1 = (x,y)\n",
    "            topLeft_clicked = True\n",
    "        elif  bottomRight_clicked == False:\n",
    "            pt2 = (x,y)\n",
    "            bottomRight_clicked = True\n",
    "    \n",
    "\n",
    "    pass\n",
    "##gLobal variables\n",
    "pt1 = (0,0)\n",
    "pt2 = (0,0)\n",
    "topLeft_clicked = False\n",
    "bottomRight_clicked = False\n",
    "\n",
    "##CONNECT TO THE CALLBACK\n",
    "cv2.namedWindow('frame')\n",
    "cv2.setMouseCallback('frame', draw_rectangle)\n",
    "\n",
    "while cap.isOpened():\n",
    "    \n",
    "    ret, frame = cap.read()\n",
    "\n",
    "##DRAWING ON THE FRAME BASED ON THE CALLBACK FUNCTION\n",
    "    if topLeft_clicked:\n",
    "        cv2.circle(frame, center=pt1, radius=5, color=(0,0,255), thickness=-1)\n",
    "    if topLeft_clicked and bottomRight_clicked:\n",
    "        cv2.rectangle(frame, pt1, pt2, (0,0,255), 2)\n",
    "\n",
    "\n",
    "    cv2.imshow('frame', frame)\n",
    "    \n",
    "    if cv2.waitKey(10) & 0xFF == ord('q'):\n",
    "        break\n",
    "\n",
    "\n",
    "cap.release()\n",
    "cv2.destroyAllWindows()"
   ]
  },
  {
   "cell_type": "code",
   "execution_count": null,
   "metadata": {},
   "outputs": [],
   "source": []
  }
 ],
 "metadata": {
  "kernelspec": {
   "display_name": "python-cvcourse",
   "language": "python",
   "name": "python3"
  },
  "language_info": {
   "codemirror_mode": {
    "name": "ipython",
    "version": 3
   },
   "file_extension": ".py",
   "mimetype": "text/x-python",
   "name": "python",
   "nbconvert_exporter": "python",
   "pygments_lexer": "ipython3",
   "version": "3.6.6"
  }
 },
 "nbformat": 4,
 "nbformat_minor": 2
}
